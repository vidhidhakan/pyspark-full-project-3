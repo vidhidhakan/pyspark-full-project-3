{
 "cells": [
  {
   "cell_type": "code",
   "execution_count": null,
   "metadata": {
    "application/vnd.databricks.v1+cell": {
     "cellMetadata": {
      "byteLimit": 2048000,
      "rowLimit": 10000
     },
     "inputWidgets": {},
     "nuid": "206b8de9-50d6-406b-a0fe-30c4673601e6",
     "showTitle": false,
     "title": ""
    }
   },
   "outputs": [],
   "source": [
    "import pyspark"
   ]
  },
  {
   "cell_type": "code",
   "execution_count": null,
   "metadata": {
    "application/vnd.databricks.v1+cell": {
     "cellMetadata": {
      "byteLimit": 2048000,
      "rowLimit": 10000
     },
     "inputWidgets": {},
     "nuid": "f460bb0d-c073-4098-9b70-6ac78746f13e",
     "showTitle": false,
     "title": ""
    }
   },
   "outputs": [
    {
     "data": {
      "application/vnd.databricks.v1+bamboolib_hint": "{\"pd.DataFrames\": [], \"version\": \"0.0.1\"}",
      "text/plain": []
     },
     "metadata": {},
     "output_type": "display_data"
    }
   ],
   "source": [
    "import pyspark as py \n",
    "import pandas as pd"
   ]
  },
  {
   "cell_type": "code",
   "execution_count": null,
   "metadata": {
    "application/vnd.databricks.v1+cell": {
     "cellMetadata": {
      "byteLimit": 2048000,
      "rowLimit": 10000
     },
     "inputWidgets": {},
     "nuid": "2904884d-bec2-4903-bc50-6271c824ab69",
     "showTitle": false,
     "title": ""
    }
   },
   "outputs": [],
   "source": [
    "# Define the data\n",
    "data = [\n",
    "    ('vidhi', 'piyush', 'sagar', '1401', 'M', 30000),\n",
    "    ('mahi', '', 'shah', '1901', 'F', 45000),\n",
    "    ('heet', '', 'dhanak', '2000', 'M', 90000),\n",
    "    ('somya', 'mayur', '', '1500', 'F', 80000)\n",
    "]"
   ]
  },
  {
   "cell_type": "code",
   "execution_count": null,
   "metadata": {
    "application/vnd.databricks.v1+cell": {
     "cellMetadata": {
      "byteLimit": 2048000,
      "rowLimit": 10000
     },
     "inputWidgets": {},
     "nuid": "9161d2ae-7aab-4123-bfe7-712fd3ac372a",
     "showTitle": false,
     "title": ""
    }
   },
   "outputs": [],
   "source": [
    "# Define the schema\n",
    "columns = ['first name', 'middle name', 'last name', 'dob', 'gender', 'salary']"
   ]
  },
  {
   "cell_type": "code",
   "execution_count": null,
   "metadata": {
    "application/vnd.databricks.v1+cell": {
     "cellMetadata": {
      "byteLimit": 2048000,
      "rowLimit": 10000
     },
     "inputWidgets": {},
     "nuid": "e13fa7b6-9a91-45e7-8306-0b8002198693",
     "showTitle": false,
     "title": ""
    }
   },
   "outputs": [],
   "source": [
    "# Create DataFrame\n",
    "df_pyspark = spark.createDataFrame(data, schema=columns)"
   ]
  },
  {
   "cell_type": "code",
   "execution_count": null,
   "metadata": {
    "application/vnd.databricks.v1+cell": {
     "cellMetadata": {
      "byteLimit": 2048000,
      "rowLimit": 10000
     },
     "inputWidgets": {},
     "nuid": "ba7cf54b-20f7-4db2-ba42-00ecd170ebee",
     "showTitle": false,
     "title": ""
    }
   },
   "outputs": [
    {
     "name": "stdout",
     "output_type": "stream",
     "text": [
      "+----------+-----------+---------+----+------+------+\n",
      "|first name|middle name|last name| dob|gender|salary|\n",
      "+----------+-----------+---------+----+------+------+\n",
      "|     vidhi|     piyush|    sagar|1401|     M| 30000|\n",
      "|      mahi|           |     shah|1901|     F| 45000|\n",
      "|      heet|           |   dhanak|2000|     M| 90000|\n",
      "|     somya|      mayur|         |1500|     F| 80000|\n",
      "+----------+-----------+---------+----+------+------+\n",
      "\n"
     ]
    }
   ],
   "source": [
    "df_pyspark.show()"
   ]
  },
  {
   "cell_type": "code",
   "execution_count": null,
   "metadata": {
    "application/vnd.databricks.v1+cell": {
     "cellMetadata": {},
     "inputWidgets": {},
     "nuid": "5b6a0f0a-81df-4f62-b4f1-5cd88c251128",
     "showTitle": true,
     "title": "WHEN I HAVE DATA IN CSV FORMAT"
    }
   },
   "outputs": [],
   "source": []
  },
  {
   "cell_type": "code",
   "execution_count": null,
   "metadata": {
    "application/vnd.databricks.v1+cell": {
     "cellMetadata": {
      "byteLimit": 2048000,
      "rowLimit": 10000
     },
     "inputWidgets": {},
     "nuid": "23ccd2f3-be16-4dd4-b85b-d492a6fa6d94",
     "showTitle": false,
     "title": ""
    }
   },
   "outputs": [
    {
     "name": "stdout",
     "output_type": "stream",
     "text": [
      "+------+------+------+-------+\n",
      "|emp_id|  name|Salary|address|\n",
      "+------+------+------+-------+\n",
      "|     1| vidhi| 10000|  india|\n",
      "|     2|piyush| 20000|    usa|\n",
      "|     3|  neha| 30000| canada|\n",
      "|     4| shona| 50000| canada|\n",
      "|     5|  null| 60000|    usa|\n",
      "|     6| rahul|  null|  india|\n",
      "+------+------+------+-------+\n",
      "\n"
     ]
    }
   ],
   "source": [
    "from pyspark.sql import SparkSession\n",
    "\n",
    "# Initialize Spark session\n",
    "spark = SparkSession.builder.appName(\"LoadCSV\").getOrCreate()\n",
    "\n",
    "# File path in DBFS\n",
    "file_path =  \"/FileStore/tables/empid-1.csv\"\n",
    "\n",
    "# Load CSV file\n",
    "df1 = spark.read.format(\"csv\").option(\"header\", \"true\").option(\"inferSchema\", \"true\").load(file_path)\n",
    "\n",
    "# Show the DataFrame\n",
    "df1.show()\n"
   ]
  },
  {
   "cell_type": "code",
   "execution_count": null,
   "metadata": {
    "application/vnd.databricks.v1+cell": {
     "cellMetadata": {
      "byteLimit": 2048000,
      "rowLimit": 10000
     },
     "inputWidgets": {},
     "nuid": "a6caaeec-fd24-41ce-87df-a3d9a146eacf",
     "showTitle": false,
     "title": ""
    }
   },
   "outputs": [
    {
     "name": "stdout",
     "output_type": "stream",
     "text": [
      "+------+------+------+-------+\n",
      "|emp_id|  name|Salary|address|\n",
      "+------+------+------+-------+\n",
      "|     1| vidhi| 10000|  india|\n",
      "|     2|piyush| 20000|    usa|\n",
      "|     3|  neha| 30000| canada|\n",
      "|     4| shona| 50000| canada|\n",
      "|     5|  null| 60000|    usa|\n",
      "|     6| rahul|  null|  india|\n",
      "+------+------+------+-------+\n",
      "\n"
     ]
    }
   ],
   "source": [
    "df1.show()"
   ]
  },
  {
   "cell_type": "code",
   "execution_count": null,
   "metadata": {
    "application/vnd.databricks.v1+cell": {
     "cellMetadata": {
      "byteLimit": 2048000,
      "rowLimit": 10000
     },
     "inputWidgets": {},
     "nuid": "25d539dd-9841-4eb0-a06a-6160397eff1f",
     "showTitle": false,
     "title": ""
    }
   },
   "outputs": [
    {
     "name": "stdout",
     "output_type": "stream",
     "text": [
      "root\n",
      " |-- emp_id: integer (nullable = true)\n",
      " |-- name: string (nullable = true)\n",
      " |-- Salary: string (nullable = true)\n",
      " |-- address: string (nullable = true)\n",
      "\n"
     ]
    }
   ],
   "source": [
    "df1.printSchema()"
   ]
  },
  {
   "cell_type": "code",
   "execution_count": null,
   "metadata": {
    "application/vnd.databricks.v1+cell": {
     "cellMetadata": {
      "byteLimit": 2048000,
      "rowLimit": 10000
     },
     "inputWidgets": {},
     "nuid": "c8feb69c-636a-4dd8-af99-6676a1cc71a5",
     "showTitle": false,
     "title": ""
    }
   },
   "outputs": [],
   "source": [
    "from pyspark.sql.types import IntegerType \n",
    "from pyspark.sql.functions import col\n",
    "\n",
    "df1 = df1.withColumn(\"salary\", col(\"salary\").cast(IntegerType()))"
   ]
  },
  {
   "cell_type": "code",
   "execution_count": null,
   "metadata": {
    "application/vnd.databricks.v1+cell": {
     "cellMetadata": {
      "byteLimit": 2048000,
      "rowLimit": 10000
     },
     "inputWidgets": {},
     "nuid": "cca7bc19-4d99-4df8-ae65-f0ae49da2d9f",
     "showTitle": false,
     "title": ""
    }
   },
   "outputs": [
    {
     "name": "stdout",
     "output_type": "stream",
     "text": [
      "root\n",
      " |-- emp_id: integer (nullable = true)\n",
      " |-- name: string (nullable = true)\n",
      " |-- salary: integer (nullable = true)\n",
      " |-- address: string (nullable = true)\n",
      "\n"
     ]
    }
   ],
   "source": [
    "df1.printSchema()"
   ]
  },
  {
   "cell_type": "code",
   "execution_count": null,
   "metadata": {
    "application/vnd.databricks.v1+cell": {
     "cellMetadata": {},
     "inputWidgets": {},
     "nuid": "00e45887-a07d-483a-8e64-9ff3a826297e",
     "showTitle": true,
     "title": "ADD NEW COLUMN"
    }
   },
   "outputs": [],
   "source": []
  },
  {
   "cell_type": "code",
   "execution_count": null,
   "metadata": {
    "application/vnd.databricks.v1+cell": {
     "cellMetadata": {
      "byteLimit": 2048000,
      "rowLimit": 10000
     },
     "inputWidgets": {},
     "nuid": "7b13b8c6-54f9-4580-90a6-ecd21ad46f9d",
     "showTitle": false,
     "title": ""
    }
   },
   "outputs": [
    {
     "name": "stdout",
     "output_type": "stream",
     "text": [
      "+------+------+------+-------+-------+\n",
      "|emp_id|  name|salary|address|  bonus|\n",
      "+------+------+------+-------+-------+\n",
      "|     1| vidhi| 10000|  india| 2000.0|\n",
      "|     2|piyush| 20000|    usa| 4000.0|\n",
      "|     3|  neha| 30000| canada| 6000.0|\n",
      "|     4| shona| 50000| canada|10000.0|\n",
      "|     5|  null| 60000|    usa|12000.0|\n",
      "|     6| rahul|  null|  india|   null|\n",
      "+------+------+------+-------+-------+\n",
      "\n"
     ]
    }
   ],
   "source": [
    "df1.withColumn('bonus',df1['salary']*0.2).show()\n"
   ]
  },
  {
   "cell_type": "code",
   "execution_count": null,
   "metadata": {
    "application/vnd.databricks.v1+cell": {
     "cellMetadata": {},
     "inputWidgets": {},
     "nuid": "973ab68c-dd9b-4684-854a-6f25e7a4cbf4",
     "showTitle": true,
     "title": "FILTER"
    }
   },
   "outputs": [],
   "source": []
  },
  {
   "cell_type": "code",
   "execution_count": null,
   "metadata": {
    "application/vnd.databricks.v1+cell": {
     "cellMetadata": {
      "byteLimit": 2048000,
      "rowLimit": 10000
     },
     "inputWidgets": {},
     "nuid": "c2495e96-b0c1-411e-84e5-1bae91056928",
     "showTitle": false,
     "title": ""
    }
   },
   "outputs": [
    {
     "name": "stdout",
     "output_type": "stream",
     "text": [
      "+------+-----+------+-------+\n",
      "|emp_id| name|salary|address|\n",
      "+------+-----+------+-------+\n",
      "|     1|vidhi| 10000|  india|\n",
      "+------+-----+------+-------+\n",
      "\n"
     ]
    }
   ],
   "source": [
    "df1.filter(df1.name =='vidhi').show()\n"
   ]
  },
  {
   "cell_type": "code",
   "execution_count": null,
   "metadata": {
    "application/vnd.databricks.v1+cell": {
     "cellMetadata": {
      "byteLimit": 2048000,
      "rowLimit": 10000
     },
     "inputWidgets": {},
     "nuid": "c4563268-f44e-4014-8e42-c71190896679",
     "showTitle": false,
     "title": ""
    }
   },
   "outputs": [
    {
     "name": "stdout",
     "output_type": "stream",
     "text": [
      "+------+------+------+-------+\n",
      "|emp_id|  name|salary|address|\n",
      "+------+------+------+-------+\n",
      "|     1| vidhi| 10000|  india|\n",
      "|     2|piyush| 20000|    usa|\n",
      "+------+------+------+-------+\n",
      "\n"
     ]
    }
   ],
   "source": [
    "filtered_df = df1.filter(\"name = 'vidhi' OR name = 'piyush'\").show()"
   ]
  },
  {
   "cell_type": "code",
   "execution_count": null,
   "metadata": {
    "application/vnd.databricks.v1+cell": {
     "cellMetadata": {
      "byteLimit": 2048000,
      "rowLimit": 10000
     },
     "inputWidgets": {},
     "nuid": "7dfa010c-b2fe-4332-9120-d3135a6a8d10",
     "showTitle": false,
     "title": ""
    }
   },
   "outputs": [
    {
     "name": "stdout",
     "output_type": "stream",
     "text": [
      "+------+------+------+-------+\n",
      "|emp_id|  name|salary|address|\n",
      "+------+------+------+-------+\n",
      "|     2|piyush| 20000|    usa|\n",
      "+------+------+------+-------+\n",
      "\n"
     ]
    }
   ],
   "source": [
    "filtered_df = df1.filter((col(\"Salary\") <= 20000) & (col(\"Salary\") >= 15000)).show()"
   ]
  },
  {
   "cell_type": "code",
   "execution_count": null,
   "metadata": {
    "application/vnd.databricks.v1+cell": {
     "cellMetadata": {
      "byteLimit": 2048000,
      "rowLimit": 10000
     },
     "inputWidgets": {},
     "nuid": "ce96f575-612d-4a5b-83f6-451186e9b5bd",
     "showTitle": true,
     "title": "################## INVERSE FUNCTIONS ##########################################"
    }
   },
   "outputs": [
    {
     "name": "stdout",
     "output_type": "stream",
     "text": [
      "+------+-----+------+-------+\n",
      "|emp_id| name|salary|address|\n",
      "+------+-----+------+-------+\n",
      "|     3| neha| 30000| canada|\n",
      "|     4|shona| 50000| canada|\n",
      "|     5| null| 60000|    usa|\n",
      "+------+-----+------+-------+\n",
      "\n"
     ]
    }
   ],
   "source": [
    "filtered_df = df1.filter(~(col(\"Salary\") <= 20000)).show()"
   ]
  },
  {
   "cell_type": "code",
   "execution_count": null,
   "metadata": {
    "application/vnd.databricks.v1+cell": {
     "cellMetadata": {
      "byteLimit": 2048000,
      "rowLimit": 10000
     },
     "inputWidgets": {},
     "nuid": "632e9b59-7333-420f-b345-0f8a2f9f3a13",
     "showTitle": false,
     "title": ""
    }
   },
   "outputs": [
    {
     "name": "stdout",
     "output_type": "stream",
     "text": [
      "+------+------+------+-------+\n",
      "|emp_id|  name|salary|address|\n",
      "+------+------+------+-------+\n",
      "|     1| vidhi| 10000|  india|\n",
      "|     2|piyush| 20000|    usa|\n",
      "|     3|  neha| 30000| canada|\n",
      "|     4| shona| 50000| canada|\n",
      "|     5|  null| 60000|    usa|\n",
      "|     6| rahul|  null|  india|\n",
      "+------+------+------+-------+\n",
      "\n"
     ]
    }
   ],
   "source": [
    "df1.show()"
   ]
  },
  {
   "cell_type": "code",
   "execution_count": null,
   "metadata": {
    "application/vnd.databricks.v1+cell": {
     "cellMetadata": {
      "byteLimit": 2048000,
      "rowLimit": 10000
     },
     "inputWidgets": {},
     "nuid": "2bab626f-e3a5-41b6-844a-a2b244e2954a",
     "showTitle": true,
     "title": "###################   SORTING ################################################"
    }
   },
   "outputs": [
    {
     "name": "stdout",
     "output_type": "stream",
     "text": [
      "+------+------+------+-------+\n",
      "|emp_id|  name|salary|address|\n",
      "+------+------+------+-------+\n",
      "|     6| rahul|  null|  india|\n",
      "|     1| vidhi| 10000|  india|\n",
      "|     2|piyush| 20000|    usa|\n",
      "|     3|  neha| 30000| canada|\n",
      "|     4| shona| 50000| canada|\n",
      "|     5|  null| 60000|    usa|\n",
      "+------+------+------+-------+\n",
      "\n"
     ]
    }
   ],
   "source": [
    "df1.sort('salary').show()"
   ]
  },
  {
   "cell_type": "code",
   "execution_count": null,
   "metadata": {
    "application/vnd.databricks.v1+cell": {
     "cellMetadata": {
      "byteLimit": 2048000,
      "rowLimit": 10000
     },
     "inputWidgets": {},
     "nuid": "3e4ea6b0-810b-4de4-b28a-e3db6a6da8b4",
     "showTitle": false,
     "title": ""
    }
   },
   "outputs": [
    {
     "name": "stdout",
     "output_type": "stream",
     "text": [
      "+------+------+------+-------+\n",
      "|emp_id|  name|salary|address|\n",
      "+------+------+------+-------+\n",
      "|     5|  null| 60000|    usa|\n",
      "|     4| shona| 50000| canada|\n",
      "|     3|  neha| 30000| canada|\n",
      "|     2|piyush| 20000|    usa|\n",
      "|     1| vidhi| 10000|  india|\n",
      "|     6| rahul|  null|  india|\n",
      "+------+------+------+-------+\n",
      "\n"
     ]
    }
   ],
   "source": [
    "df1.sort(df1.salary.desc()).show()"
   ]
  },
  {
   "cell_type": "code",
   "execution_count": null,
   "metadata": {
    "application/vnd.databricks.v1+cell": {
     "cellMetadata": {
      "byteLimit": 2048000,
      "rowLimit": 10000
     },
     "inputWidgets": {},
     "nuid": "e52e13dd-9928-4bc0-a607-9eefb4995b89",
     "showTitle": false,
     "title": ""
    }
   },
   "outputs": [
    {
     "name": "stdout",
     "output_type": "stream",
     "text": [
      "+------+------+------+-------+\n",
      "|emp_id|  name|salary|address|\n",
      "+------+------+------+-------+\n",
      "|     6| rahul|  null|  india|\n",
      "|     1| vidhi| 10000|  india|\n",
      "|     2|piyush| 20000|    usa|\n",
      "|     3|  neha| 30000| canada|\n",
      "|     4| shona| 50000| canada|\n",
      "|     5|  null| 60000|    usa|\n",
      "+------+------+------+-------+\n",
      "\n"
     ]
    }
   ],
   "source": [
    "df1.sort(df1.salary.asc()).show()"
   ]
  },
  {
   "cell_type": "code",
   "execution_count": null,
   "metadata": {
    "application/vnd.databricks.v1+cell": {
     "cellMetadata": {
      "byteLimit": 2048000,
      "rowLimit": 10000
     },
     "inputWidgets": {},
     "nuid": "91849590-5994-4257-b881-7b3ff1c5d560",
     "showTitle": true,
     "title": "##########   AGGREGATE FUNCTIONS (SUM),(AVG),(COUNT),(MINIMAX),(GROUP BY)"
    }
   },
   "outputs": [
    {
     "name": "stdout",
     "output_type": "stream",
     "text": [
      "+------+------+-------+\n",
      "|  name|salary|address|\n",
      "+------+------+-------+\n",
      "| vidhi| 10000|  india|\n",
      "|piyush| 20000|    usa|\n",
      "|  neha| 30000| canada|\n",
      "| shona| 50000| canada|\n",
      "|  null| 60000|    usa|\n",
      "| rahul|  null|  india|\n",
      "+------+------+-------+\n",
      "\n"
     ]
    }
   ],
   "source": [
    "# SELECT \n",
    "\n",
    "df1.select('name','salary','address').show()"
   ]
  },
  {
   "cell_type": "code",
   "execution_count": null,
   "metadata": {
    "application/vnd.databricks.v1+cell": {
     "cellMetadata": {
      "byteLimit": 2048000,
      "rowLimit": 10000
     },
     "inputWidgets": {},
     "nuid": "340d1c5d-dcc6-42f0-80a4-42d70883bc9c",
     "showTitle": false,
     "title": ""
    }
   },
   "outputs": [
    {
     "name": "stdout",
     "output_type": "stream",
     "text": [
      "+-------+-----------+\n",
      "|address|sum(salary)|\n",
      "+-------+-----------+\n",
      "|  india|      10000|\n",
      "| canada|      80000|\n",
      "|    usa|      80000|\n",
      "+-------+-----------+\n",
      "\n"
     ]
    }
   ],
   "source": [
    "# sum of the salary by name \n",
    "\n",
    "df1.groupby('address').sum('salary').show()"
   ]
  },
  {
   "cell_type": "code",
   "execution_count": null,
   "metadata": {
    "application/vnd.databricks.v1+cell": {
     "cellMetadata": {
      "byteLimit": 2048000,
      "rowLimit": 10000
     },
     "inputWidgets": {},
     "nuid": "f22ace6e-4b16-41aa-a47d-4368e1f1044c",
     "showTitle": false,
     "title": ""
    }
   },
   "outputs": [
    {
     "name": "stdout",
     "output_type": "stream",
     "text": [
      "+-------+-----------+\n",
      "|address|avg(salary)|\n",
      "+-------+-----------+\n",
      "|  india|    10000.0|\n",
      "| canada|    40000.0|\n",
      "|    usa|    40000.0|\n",
      "+-------+-----------+\n",
      "\n"
     ]
    }
   ],
   "source": [
    "df1.groupby('address').avg('salary').show()"
   ]
  },
  {
   "cell_type": "code",
   "execution_count": null,
   "metadata": {
    "application/vnd.databricks.v1+cell": {
     "cellMetadata": {
      "byteLimit": 2048000,
      "rowLimit": 10000
     },
     "inputWidgets": {},
     "nuid": "2aea0f41-24d9-4357-b1bc-dfbf175e62e6",
     "showTitle": false,
     "title": ""
    }
   },
   "outputs": [
    {
     "name": "stdout",
     "output_type": "stream",
     "text": [
      "+------+-----+\n",
      "|  name|count|\n",
      "+------+-----+\n",
      "| rahul|    1|\n",
      "|piyush|    1|\n",
      "| vidhi|    1|\n",
      "|  neha|    1|\n",
      "|  null|    1|\n",
      "| shona|    1|\n",
      "+------+-----+\n",
      "\n"
     ]
    }
   ],
   "source": [
    "df1.groupby('name').count().show()"
   ]
  },
  {
   "cell_type": "code",
   "execution_count": null,
   "metadata": {
    "application/vnd.databricks.v1+cell": {
     "cellMetadata": {
      "byteLimit": 2048000,
      "rowLimit": 10000
     },
     "inputWidgets": {},
     "nuid": "aa86128b-7cbd-4626-8a67-bcf24d93c0e8",
     "showTitle": false,
     "title": ""
    }
   },
   "outputs": [
    {
     "name": "stdout",
     "output_type": "stream",
     "text": [
      "+-------+-----------+\n",
      "|address|min(salary)|\n",
      "+-------+-----------+\n",
      "|  india|      10000|\n",
      "| canada|      30000|\n",
      "|    usa|      20000|\n",
      "+-------+-----------+\n",
      "\n"
     ]
    }
   ],
   "source": [
    "df1.groupby('address').min('salary').show()"
   ]
  },
  {
   "cell_type": "code",
   "execution_count": null,
   "metadata": {
    "application/vnd.databricks.v1+cell": {
     "cellMetadata": {
      "byteLimit": 2048000,
      "rowLimit": 10000
     },
     "inputWidgets": {},
     "nuid": "31f9c8ee-c765-45a4-acfe-20a490ca17b3",
     "showTitle": false,
     "title": ""
    }
   },
   "outputs": [
    {
     "name": "stdout",
     "output_type": "stream",
     "text": [
      "+-------+-----------+\n",
      "|address|max(salary)|\n",
      "+-------+-----------+\n",
      "|  india|      10000|\n",
      "| canada|      50000|\n",
      "|    usa|      60000|\n",
      "+-------+-----------+\n",
      "\n"
     ]
    }
   ],
   "source": [
    "df1.groupby('address').max('salary').show()"
   ]
  },
  {
   "cell_type": "code",
   "execution_count": null,
   "metadata": {
    "application/vnd.databricks.v1+cell": {
     "cellMetadata": {
      "byteLimit": 2048000,
      "rowLimit": 10000
     },
     "inputWidgets": {},
     "nuid": "59fb859a-dc6e-4682-9f68-5a49575b7044",
     "showTitle": false,
     "title": ""
    }
   },
   "outputs": [
    {
     "name": "stdout",
     "output_type": "stream",
     "text": [
      "+-------+-----------+\n",
      "|address|avg(salary)|\n",
      "+-------+-----------+\n",
      "|  india|    10000.0|\n",
      "| canada|    40000.0|\n",
      "|    usa|    40000.0|\n",
      "+-------+-----------+\n",
      "\n"
     ]
    }
   ],
   "source": [
    "df1.groupby('address').avg('salary').show()"
   ]
  },
  {
   "cell_type": "code",
   "execution_count": null,
   "metadata": {
    "application/vnd.databricks.v1+cell": {
     "cellMetadata": {
      "byteLimit": 2048000,
      "rowLimit": 10000
     },
     "inputWidgets": {},
     "nuid": "d5fa448a-ff8a-402d-a6fc-c2de9c03f3eb",
     "showTitle": true,
     "title": "JOINING"
    }
   },
   "outputs": [
    {
     "name": "stdout",
     "output_type": "stream",
     "text": [
      "root\n",
      " |-- emp_id: long (nullable = true)\n",
      " |-- name: string (nullable = true)\n",
      " |-- superior_emp_id: long (nullable = true)\n",
      " |-- year_joined: string (nullable = true)\n",
      " |-- emp_dept_id: string (nullable = true)\n",
      " |-- gender: string (nullable = true)\n",
      " |-- salary: long (nullable = true)\n",
      "\n"
     ]
    }
   ],
   "source": [
    "emp = [(1,\"smith\",-1,\"2018\",\"10\",\"M\",3000), \\\n",
    "       (2,\"rose\",1,\"2010\",\"20\",\"M\",4000), \\\n",
    "       (3, \"vidhi\",1,\"2010\",\"10\",\"M\",1000), \\\n",
    "       (4,\"jones\",2,\"2019\",\"30\",\"\",-1), \\\n",
    "        (5,\"piyush\",2,\"2010\",\"50\",\"\",-1) \\\n",
    "\n",
    "    ]\n",
    "\n",
    "empColumns = [\"emp_id\",\"name\",\"superior_emp_id\",\"year_joined\", \\\n",
    "         \"emp_dept_id\",\"gender\",\"salary\"]\n",
    "\n",
    "empdf = spark.createDataFrame(data=emp, schema = empColumns)\n",
    "empdf.printSchema()            "
   ]
  },
  {
   "cell_type": "code",
   "execution_count": null,
   "metadata": {
    "application/vnd.databricks.v1+cell": {
     "cellMetadata": {
      "byteLimit": 2048000,
      "rowLimit": 10000
     },
     "inputWidgets": {},
     "nuid": "aa7d57b8-6bd6-4846-8113-8ce0ce4cf63c",
     "showTitle": false,
     "title": ""
    }
   },
   "outputs": [
    {
     "name": "stdout",
     "output_type": "stream",
     "text": [
      "+------+------+---------------+-----------+-----------+------+------+\n",
      "|emp_id|  name|superior_emp_id|year_joined|emp_dept_id|gender|salary|\n",
      "+------+------+---------------+-----------+-----------+------+------+\n",
      "|     1| smith|             -1|       2018|         10|     M|  3000|\n",
      "|     2|  rose|              1|       2010|         20|     M|  4000|\n",
      "|     3| vidhi|              1|       2010|         10|     M|  1000|\n",
      "|     4| jones|              2|       2019|         30|      |    -1|\n",
      "|     5|piyush|              2|       2010|         50|      |    -1|\n",
      "+------+------+---------------+-----------+-----------+------+------+\n",
      "\n"
     ]
    }
   ],
   "source": [
    "empdf.show()"
   ]
  },
  {
   "cell_type": "code",
   "execution_count": null,
   "metadata": {
    "application/vnd.databricks.v1+cell": {
     "cellMetadata": {
      "byteLimit": 2048000,
      "rowLimit": 10000
     },
     "inputWidgets": {},
     "nuid": "72f7edf1-cf8b-42e9-8670-c5d085b65e2e",
     "showTitle": false,
     "title": ""
    }
   },
   "outputs": [
    {
     "name": "stdout",
     "output_type": "stream",
     "text": [
      "root\n",
      " |-- dept_name: string (nullable = true)\n",
      " |-- dept_id: long (nullable = true)\n",
      "\n",
      "+---------+-------+\n",
      "|dept_name|dept_id|\n",
      "+---------+-------+\n",
      "|  finance|     10|\n",
      "|Marketing|     20|\n",
      "|    sales|     30|\n",
      "|       It|     40|\n",
      "+---------+-------+\n",
      "\n"
     ]
    }
   ],
   "source": [
    "dept = [(\"finance\", 10), \n",
    "        (\"Marketing\", 20), \n",
    "        (\"sales\", 30), \n",
    "        (\"It\", 40)]\n",
    "\n",
    "deptColumns = [\"dept_name\",\"dept_id\"]\n",
    "deptdf = spark.createDataFrame(data = dept, schema = deptColumns)\n",
    "\n",
    "deptdf.printSchema()\n",
    "deptdf.show()"
   ]
  },
  {
   "cell_type": "code",
   "execution_count": null,
   "metadata": {
    "application/vnd.databricks.v1+cell": {
     "cellMetadata": {
      "byteLimit": 2048000,
      "rowLimit": 10000
     },
     "inputWidgets": {},
     "nuid": "e567a8de-451a-4e6a-97a4-eb73c0ddd61f",
     "showTitle": false,
     "title": ""
    }
   },
   "outputs": [
    {
     "name": "stdout",
     "output_type": "stream",
     "text": [
      "+------+-----+---------------+-----------+-----------+------+------+---------+-------+\n",
      "|emp_id| name|superior_emp_id|year_joined|emp_dept_id|gender|salary|dept_name|dept_id|\n",
      "+------+-----+---------------+-----------+-----------+------+------+---------+-------+\n",
      "|     1|smith|             -1|       2018|         10|     M|  3000|  finance|     10|\n",
      "|     3|vidhi|              1|       2010|         10|     M|  1000|  finance|     10|\n",
      "|     2| rose|              1|       2010|         20|     M|  4000|Marketing|     20|\n",
      "|     4|jones|              2|       2019|         30|      |    -1|    sales|     30|\n",
      "+------+-----+---------------+-----------+-----------+------+------+---------+-------+\n",
      "\n"
     ]
    }
   ],
   "source": [
    "empdf.join(deptdf,empdf.emp_dept_id==deptdf.dept_id,\"inner\").show()"
   ]
  },
  {
   "cell_type": "code",
   "execution_count": null,
   "metadata": {
    "application/vnd.databricks.v1+cell": {
     "cellMetadata": {
      "byteLimit": 2048000,
      "rowLimit": 10000
     },
     "inputWidgets": {},
     "nuid": "7e4a1617-d17b-46de-83e7-7ae93ed0fd47",
     "showTitle": false,
     "title": ""
    }
   },
   "outputs": [
    {
     "name": "stdout",
     "output_type": "stream",
     "text": [
      "+------+------+---------------+-----------+-----------+------+------+---------+-------+\n",
      "|emp_id|  name|superior_emp_id|year_joined|emp_dept_id|gender|salary|dept_name|dept_id|\n",
      "+------+------+---------------+-----------+-----------+------+------+---------+-------+\n",
      "|     1| smith|             -1|       2018|         10|     M|  3000|  finance|     10|\n",
      "|     2|  rose|              1|       2010|         20|     M|  4000|Marketing|     20|\n",
      "|     3| vidhi|              1|       2010|         10|     M|  1000|  finance|     10|\n",
      "|     4| jones|              2|       2019|         30|      |    -1|    sales|     30|\n",
      "|     5|piyush|              2|       2010|         50|      |    -1|     null|   null|\n",
      "+------+------+---------------+-----------+-----------+------+------+---------+-------+\n",
      "\n"
     ]
    }
   ],
   "source": [
    "empdf.join(deptdf,empdf.emp_dept_id==deptdf.dept_id,\"left\").show()"
   ]
  },
  {
   "cell_type": "code",
   "execution_count": null,
   "metadata": {
    "application/vnd.databricks.v1+cell": {
     "cellMetadata": {
      "byteLimit": 2048000,
      "rowLimit": 10000
     },
     "inputWidgets": {},
     "nuid": "fd26d73e-9f64-4660-b639-7e075c3887d3",
     "showTitle": false,
     "title": ""
    }
   },
   "outputs": [
    {
     "name": "stdout",
     "output_type": "stream",
     "text": [
      "+------+-----+---------------+-----------+-----------+------+------+---------+-------+\n",
      "|emp_id| name|superior_emp_id|year_joined|emp_dept_id|gender|salary|dept_name|dept_id|\n",
      "+------+-----+---------------+-----------+-----------+------+------+---------+-------+\n",
      "|     3|vidhi|              1|       2010|         10|     M|  1000|  finance|     10|\n",
      "|     1|smith|             -1|       2018|         10|     M|  3000|  finance|     10|\n",
      "|     2| rose|              1|       2010|         20|     M|  4000|Marketing|     20|\n",
      "|     4|jones|              2|       2019|         30|      |    -1|    sales|     30|\n",
      "|  null| null|           null|       null|       null|  null|  null|       It|     40|\n",
      "+------+-----+---------------+-----------+-----------+------+------+---------+-------+\n",
      "\n"
     ]
    }
   ],
   "source": [
    "empdf.join(deptdf,empdf.emp_dept_id==deptdf.dept_id,\"right\").show()"
   ]
  },
  {
   "cell_type": "code",
   "execution_count": null,
   "metadata": {
    "application/vnd.databricks.v1+cell": {
     "cellMetadata": {
      "byteLimit": 2048000,
      "rowLimit": 10000
     },
     "inputWidgets": {},
     "nuid": "9f83cc86-4bd5-4551-97e9-445b73a3536f",
     "showTitle": false,
     "title": ""
    }
   },
   "outputs": [
    {
     "name": "stdout",
     "output_type": "stream",
     "text": [
      "+------+------+---------------+-----------+-----------+------+------+---------+-------+\n",
      "|emp_id|  name|superior_emp_id|year_joined|emp_dept_id|gender|salary|dept_name|dept_id|\n",
      "+------+------+---------------+-----------+-----------+------+------+---------+-------+\n",
      "|     1| smith|             -1|       2018|         10|     M|  3000|  finance|     10|\n",
      "|     3| vidhi|              1|       2010|         10|     M|  1000|  finance|     10|\n",
      "|     2|  rose|              1|       2010|         20|     M|  4000|Marketing|     20|\n",
      "|     4| jones|              2|       2019|         30|      |    -1|    sales|     30|\n",
      "|  null|  null|           null|       null|       null|  null|  null|       It|     40|\n",
      "|     5|piyush|              2|       2010|         50|      |    -1|     null|   null|\n",
      "+------+------+---------------+-----------+-----------+------+------+---------+-------+\n",
      "\n"
     ]
    }
   ],
   "source": [
    "empdf.join(deptdf,empdf.emp_dept_id==deptdf.dept_id,\"outer\").show()"
   ]
  },
  {
   "cell_type": "code",
   "execution_count": null,
   "metadata": {
    "application/vnd.databricks.v1+cell": {
     "cellMetadata": {},
     "inputWidgets": {},
     "nuid": "c06330ba-65b0-4179-b1fc-dce4d19d3c40",
     "showTitle": true,
     "title": "UNION"
    }
   },
   "outputs": [],
   "source": []
  },
  {
   "cell_type": "code",
   "execution_count": null,
   "metadata": {
    "application/vnd.databricks.v1+cell": {
     "cellMetadata": {
      "byteLimit": 2048000,
      "rowLimit": 10000
     },
     "inputWidgets": {},
     "nuid": "1900faaa-6086-412e-86bb-4552d81973bc",
     "showTitle": false,
     "title": ""
    }
   },
   "outputs": [
    {
     "name": "stdout",
     "output_type": "stream",
     "text": [
      "root\n",
      " |-- emp_name: string (nullable = true)\n",
      " |-- dept: string (nullable = true)\n",
      " |-- state: string (nullable = true)\n",
      " |-- salary: long (nullable = true)\n",
      " |-- age: long (nullable = true)\n",
      " |-- bonus: long (nullable = true)\n",
      "\n",
      "+--------+--------+-----+------+---+-----+\n",
      "|emp_name|    dept|state|salary|age|bonus|\n",
      "+--------+--------+-----+------+---+-----+\n",
      "|   vidhi|   Sales|   NY| 90000| 34| 1000|\n",
      "|  piyush|purchase|   EY| 90000| 45| 2000|\n",
      "|  robert|   sales|   CA| 70000| 50| 3000|\n",
      "+--------+--------+-----+------+---+-----+\n",
      "\n",
      "root\n",
      " |-- emp_name: string (nullable = true)\n",
      " |-- dept: string (nullable = true)\n",
      " |-- state: string (nullable = true)\n",
      " |-- salary: long (nullable = true)\n",
      " |-- age: long (nullable = true)\n",
      " |-- bonus: long (nullable = true)\n",
      "\n",
      "+--------+--------+-----+------+---+-----+\n",
      "|emp_name|    dept|state|salary|age|bonus|\n",
      "+--------+--------+-----+------+---+-----+\n",
      "|   shona|purchase|   Ca| 60000| 40| 2000|\n",
      "|    heet|   sales|   Ny| 70000| 23| 2000|\n",
      "|   mihir|purchase|   ca| 60000| 35| 2000|\n",
      "+--------+--------+-----+------+---+-----+\n",
      "\n"
     ]
    }
   ],
   "source": [
    "simpleData = [(\"vidhi\",\"Sales\",\"NY\",90000,34,1000),\\\n",
    "             (\"piyush\",\"purchase\",\"EY\",90000,45,2000), \\\n",
    "                 (\"robert\",\"sales\",\"CA\",70000,50,3000), \\\n",
    "             ]\n",
    "\n",
    "Columns= [\"emp_name\",\"dept\",\"state\",\"salary\",\"age\",\"bonus\"]\n",
    "\n",
    "df = spark.createDataFrame(data = simpleData, schema = Columns )\n",
    "df.printSchema()\n",
    "df.show()\n",
    "\n",
    "simpleData2 = [(\"shona\",\"purchase\",\"Ca\",60000,40,2000), \\\n",
    "               (\"heet\",\"sales\",\"Ny\",70000,23,2000), \\\n",
    "                (\"mihir\",\"purchase\",\"ca\",60000,35,2000), \\\n",
    "              ]\n",
    "\n",
    "Columns= [\"emp_name\",\"dept\",\"state\",\"salary\",\"age\",\"bonus\"]\n",
    "\n",
    "df1 = spark.createDataFrame(data = simpleData2, schema = Columns )\n",
    "df1.printSchema()\n",
    "df1.show()\n"
   ]
  },
  {
   "cell_type": "code",
   "execution_count": null,
   "metadata": {
    "application/vnd.databricks.v1+cell": {
     "cellMetadata": {
      "byteLimit": 2048000,
      "rowLimit": 10000
     },
     "inputWidgets": {},
     "nuid": "cc7607e0-8d9f-4eee-b984-cd92cf73e6b4",
     "showTitle": false,
     "title": ""
    }
   },
   "outputs": [
    {
     "name": "stdout",
     "output_type": "stream",
     "text": [
      "+--------+--------+-----+------+---+-----+\n",
      "|emp_name|    dept|state|salary|age|bonus|\n",
      "+--------+--------+-----+------+---+-----+\n",
      "|   vidhi|   Sales|   NY| 90000| 34| 1000|\n",
      "|  piyush|purchase|   EY| 90000| 45| 2000|\n",
      "|  robert|   sales|   CA| 70000| 50| 3000|\n",
      "+--------+--------+-----+------+---+-----+\n",
      "\n"
     ]
    }
   ],
   "source": [
    "df.show()"
   ]
  },
  {
   "cell_type": "code",
   "execution_count": null,
   "metadata": {
    "application/vnd.databricks.v1+cell": {
     "cellMetadata": {
      "byteLimit": 2048000,
      "rowLimit": 10000
     },
     "inputWidgets": {},
     "nuid": "6f403a8f-4301-4285-93d3-bcf045cdfb87",
     "showTitle": false,
     "title": ""
    }
   },
   "outputs": [
    {
     "name": "stdout",
     "output_type": "stream",
     "text": [
      "+--------+--------+-----+------+---+-----+\n",
      "|emp_name|    dept|state|salary|age|bonus|\n",
      "+--------+--------+-----+------+---+-----+\n",
      "|   shona|purchase|   Ca| 60000| 40| 2000|\n",
      "|    heet|   sales|   Ny| 70000| 23| 2000|\n",
      "|   mihir|purchase|   ca| 60000| 35| 2000|\n",
      "+--------+--------+-----+------+---+-----+\n",
      "\n"
     ]
    }
   ],
   "source": [
    "df1.show()"
   ]
  },
  {
   "cell_type": "code",
   "execution_count": null,
   "metadata": {
    "application/vnd.databricks.v1+cell": {
     "cellMetadata": {
      "byteLimit": 2048000,
      "rowLimit": 10000
     },
     "inputWidgets": {},
     "nuid": "2deadad1-8ff3-4b3b-bd59-fdb7d382457e",
     "showTitle": false,
     "title": ""
    }
   },
   "outputs": [
    {
     "name": "stdout",
     "output_type": "stream",
     "text": [
      "+--------+--------+-----+------+---+-----+\n",
      "|emp_name|    dept|state|salary|age|bonus|\n",
      "+--------+--------+-----+------+---+-----+\n",
      "|   vidhi|   Sales|   NY| 90000| 34| 1000|\n",
      "|  piyush|purchase|   EY| 90000| 45| 2000|\n",
      "|  robert|   sales|   CA| 70000| 50| 3000|\n",
      "|   shona|purchase|   Ca| 60000| 40| 2000|\n",
      "|    heet|   sales|   Ny| 70000| 23| 2000|\n",
      "|   mihir|purchase|   ca| 60000| 35| 2000|\n",
      "+--------+--------+-----+------+---+-----+\n",
      "\n"
     ]
    }
   ],
   "source": [
    "df.union(df1).show()"
   ]
  },
  {
   "cell_type": "code",
   "execution_count": null,
   "metadata": {
    "application/vnd.databricks.v1+cell": {
     "cellMetadata": {},
     "inputWidgets": {},
     "nuid": "fab3f621-cc60-490c-90a0-ae0b91e06a02",
     "showTitle": false,
     "title": ""
    }
   },
   "outputs": [],
   "source": []
  }
 ],
 "metadata": {
  "application/vnd.databricks.v1+notebook": {
   "dashboards": [],
   "environmentMetadata": null,
   "language": "python",
   "notebookMetadata": {
    "pythonIndentUnit": 4
   },
   "notebookName": "python tutorial",
   "widgets": {}
  },
  "language_info": {
   "name": "python"
  }
 },
 "nbformat": 4,
 "nbformat_minor": 0
}
